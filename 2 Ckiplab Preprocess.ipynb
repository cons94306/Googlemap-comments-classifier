{
 "cells": [
  {
   "cell_type": "code",
   "execution_count": 1,
   "metadata": {},
   "outputs": [],
   "source": [
    "import pandas as pd"
   ]
  },
  {
   "cell_type": "code",
   "execution_count": 2,
   "metadata": {},
   "outputs": [],
   "source": [
    "data = pd.read_csv('google_comment.csv')"
   ]
  },
  {
   "cell_type": "code",
   "execution_count": 3,
   "metadata": {},
   "outputs": [
    {
     "output_type": "execute_result",
     "data": {
      "text/plain": [
       "            author grade                                            comment\n",
       "0             su H     1  貨運慢到天荒地老，電話打了無數次才接，接了說會禮拜一到，結果也沒有，所有貨運公司中最爛的服務態度！\n",
       "1              黃彩雲     4  真是抱歉，這晚只是為了帶孩子感受護國宮安魂路祭活動，停留在物流所大門前，並不是真的有去物流所...\n",
       "2         Chriz Wu     1                                  會讓您送來的電視直接變廢五金喔^^\n",
       "3        Qian Chen     1  一顆心都嫌多 爛死了 貨物已經到站所一個禮拜還在配送中？昨天打給客服跟我說最晚今天送達結果騙...\n",
       "4              駱彥華     1  態度部分就不提，把人家寄物件掉在路上，被熱心民眾送到手上，物流還完全不知情，照上面電話打去告...\n",
       "...            ...   ...                                                ...\n",
       "4313  Archer Chang     3                  (由 Google 提供翻譯) 份量超少  (原始評論) 份量超少\n",
       "4314     patrick s     1                  (由 Google 提供翻譯) 地雷勿踩  (原始評論) 地雷勿踩\n",
       "4315    Harris Joe     2  (由 Google 提供翻譯) 菜很少 口味又很淡 吃大埔要先挑店  (原始評論) 菜很少 ...\n",
       "4316      K.Y. Lin     2                    (由 Google 提供翻譯) 不OK  (原始評論) 不OK\n",
       "4317     Jonas Yeh     3                      (由 Google 提供翻譯) 普通  (原始評論) 普通\n",
       "\n",
       "[4318 rows x 3 columns]"
      ],
      "text/html": "<div>\n<style scoped>\n    .dataframe tbody tr th:only-of-type {\n        vertical-align: middle;\n    }\n\n    .dataframe tbody tr th {\n        vertical-align: top;\n    }\n\n    .dataframe thead th {\n        text-align: right;\n    }\n</style>\n<table border=\"1\" class=\"dataframe\">\n  <thead>\n    <tr style=\"text-align: right;\">\n      <th></th>\n      <th>author</th>\n      <th>grade</th>\n      <th>comment</th>\n    </tr>\n  </thead>\n  <tbody>\n    <tr>\n      <th>0</th>\n      <td>su H</td>\n      <td>1</td>\n      <td>貨運慢到天荒地老，電話打了無數次才接，接了說會禮拜一到，結果也沒有，所有貨運公司中最爛的服務態度！</td>\n    </tr>\n    <tr>\n      <th>1</th>\n      <td>黃彩雲</td>\n      <td>4</td>\n      <td>真是抱歉，這晚只是為了帶孩子感受護國宮安魂路祭活動，停留在物流所大門前，並不是真的有去物流所...</td>\n    </tr>\n    <tr>\n      <th>2</th>\n      <td>Chriz Wu</td>\n      <td>1</td>\n      <td>會讓您送來的電視直接變廢五金喔^^</td>\n    </tr>\n    <tr>\n      <th>3</th>\n      <td>Qian Chen</td>\n      <td>1</td>\n      <td>一顆心都嫌多 爛死了 貨物已經到站所一個禮拜還在配送中？昨天打給客服跟我說最晚今天送達結果騙...</td>\n    </tr>\n    <tr>\n      <th>4</th>\n      <td>駱彥華</td>\n      <td>1</td>\n      <td>態度部分就不提，把人家寄物件掉在路上，被熱心民眾送到手上，物流還完全不知情，照上面電話打去告...</td>\n    </tr>\n    <tr>\n      <th>...</th>\n      <td>...</td>\n      <td>...</td>\n      <td>...</td>\n    </tr>\n    <tr>\n      <th>4313</th>\n      <td>Archer Chang</td>\n      <td>3</td>\n      <td>(由 Google 提供翻譯) 份量超少  (原始評論) 份量超少</td>\n    </tr>\n    <tr>\n      <th>4314</th>\n      <td>patrick s</td>\n      <td>1</td>\n      <td>(由 Google 提供翻譯) 地雷勿踩  (原始評論) 地雷勿踩</td>\n    </tr>\n    <tr>\n      <th>4315</th>\n      <td>Harris Joe</td>\n      <td>2</td>\n      <td>(由 Google 提供翻譯) 菜很少 口味又很淡 吃大埔要先挑店  (原始評論) 菜很少 ...</td>\n    </tr>\n    <tr>\n      <th>4316</th>\n      <td>K.Y. Lin</td>\n      <td>2</td>\n      <td>(由 Google 提供翻譯) 不OK  (原始評論) 不OK</td>\n    </tr>\n    <tr>\n      <th>4317</th>\n      <td>Jonas Yeh</td>\n      <td>3</td>\n      <td>(由 Google 提供翻譯) 普通  (原始評論) 普通</td>\n    </tr>\n  </tbody>\n</table>\n<p>4318 rows × 3 columns</p>\n</div>"
     },
     "metadata": {},
     "execution_count": 3
    }
   ],
   "source": [
    "# data = data.head(10000)\n",
    "data"
   ]
  },
  {
   "cell_type": "markdown",
   "metadata": {},
   "source": [
    "# 中研院ckiplab word segmentation\n",
    "\n",
    "ws, pos, ner"
   ]
  },
  {
   "cell_type": "code",
   "execution_count": 4,
   "metadata": {},
   "outputs": [],
   "source": [
    "from ckiptagger import data_utils, construct_dictionary, WS, POS, NER"
   ]
  },
  {
   "cell_type": "code",
   "execution_count": 5,
   "metadata": {},
   "outputs": [],
   "source": [
    "# location of models\n",
    "model_path = './ckiplab_model_data'"
   ]
  },
  {
   "cell_type": "code",
   "execution_count": 6,
   "metadata": {},
   "outputs": [
    {
     "output_type": "stream",
     "name": "stdout",
     "text": [
      "Wall time: 9.37 s\n"
     ]
    }
   ],
   "source": [
    "%%time\n",
    "ws = WS(model_path)"
   ]
  },
  {
   "cell_type": "code",
   "execution_count": 7,
   "metadata": {},
   "outputs": [
    {
     "output_type": "stream",
     "name": "stdout",
     "text": [
      "Wall time: 22.1 s\n"
     ]
    }
   ],
   "source": [
    "%%time\n",
    "tokens=ws(data.comment)"
   ]
  },
  {
   "cell_type": "markdown",
   "metadata": {},
   "source": [
    "# Remove unecessary characters using regular expression\n",
    "\n",
    "正規表達法  資料清理\n",
    "\n",
    "清理:\n",
    "標點符號 過濾後變成空的內容\n",
    "\n",
    "資料集裡面有很多這樣的符號:\n",
    "\n",
    "    ⊙', ')', '…', '(', '⊙o⊙', ')', '…', '(', '⊙o⊙', ')', '…', '(', '⊙o⊙', ')', '…'"
   ]
  },
  {
   "cell_type": "raw",
   "metadata": {},
   "source": [
    "# 正規表達法  資料清理\n",
    "\n",
    "import re\n",
    "regex = re.compile(r'[\\s\\,\\;，。.\"]+') # 刪除特定的字詞\n",
    "[x for x in doc if not regex.match(x)]\n",
    "\n",
    "import re\n",
    "pattern = re.compile(r'[\\u4e00-\\u9fa5]+') # 刪除非中文字詞\n",
    "[x for x in doc if pattern.match(x)]\n"
   ]
  },
  {
   "cell_type": "code",
   "execution_count": 8,
   "metadata": {},
   "outputs": [],
   "source": [
    "import re\n",
    "pattern = re.compile(r'[\\u4e00-\\u9fa5]+')"
   ]
  },
  {
   "cell_type": "code",
   "execution_count": 9,
   "metadata": {},
   "outputs": [
    {
     "output_type": "stream",
     "name": "stdout",
     "text": [
      "262 :skip a blank line跳開這筆空白內容\n2268 :skip a blank line跳開這筆空白內容\n2393 :skip a blank line跳開這筆空白內容\n2686 :skip a blank line跳開這筆空白內容\n2710 :skip a blank line跳開這筆空白內容\n2828 :skip a blank line跳開這筆空白內容\n3191 :skip a blank line跳開這筆空白內容\n3193 :skip a blank line跳開這筆空白內容\n3197 :skip a blank line跳開這筆空白內容\n3199 :skip a blank line跳開這筆空白內容\n3201 :skip a blank line跳開這筆空白內容\n3203 :skip a blank line跳開這筆空白內容\n3204 :skip a blank line跳開這筆空白內容\n3209 :skip a blank line跳開這筆空白內容\n3214 :skip a blank line跳開這筆空白內容\n3215 :skip a blank line跳開這筆空白內容\n3217 :skip a blank line跳開這筆空白內容\n3222 :skip a blank line跳開這筆空白內容\n3223 :skip a blank line跳開這筆空白內容\n3226 :skip a blank line跳開這筆空白內容\n3239 :skip a blank line跳開這筆空白內容\n3245 :skip a blank line跳開這筆空白內容\n3248 :skip a blank line跳開這筆空白內容\n3249 :skip a blank line跳開這筆空白內容\n3250 :skip a blank line跳開這筆空白內容\n3371 :skip a blank line跳開這筆空白內容\n4257 :skip a blank line跳開這筆空白內容\n"
     ]
    }
   ],
   "source": [
    "tokens_origin=[]\n",
    "tokens_list=[]\n",
    "tokens_str=[]\n",
    "drops=[]\n",
    "for idx,line in enumerate(tokens):\n",
    "    # 刪除不屬於中文字的特殊字元 包含標點符號等\n",
    "    line_list = [x for x in line if pattern.match(x)]\n",
    "    line_str = \" \".join(line_list) # 合併成字串 以空格分隔\n",
    "    # 過濾之後，有些留言可能會變成空值 需要進一步刪除該筆\n",
    "    if len(line_str)==0:\n",
    "        print(idx, ':skip a blank line跳開這筆空白內容')\n",
    "        drops.append(idx)\n",
    "        continue\n",
    "    tokens_list.append(line_list)\n",
    "    tokens_str.append(line_str)\n",
    "    tokens_origin.append(\" \".join(line)) #string format    \n",
    "    #tokens_origin.append(line) #list format"
   ]
  },
  {
   "cell_type": "code",
   "execution_count": 10,
   "metadata": {},
   "outputs": [],
   "source": [
    "# drop blank samples去除空白的row\n",
    "data = data.drop(data.index[ drops ])"
   ]
  },
  {
   "cell_type": "code",
   "execution_count": 11,
   "metadata": {},
   "outputs": [
    {
     "output_type": "execute_result",
     "data": {
      "text/plain": [
       "'貨運 慢 到 天荒地老 電話 打 了 無數 次 才 接 接 了 說 會 禮拜一 到 結果 也 沒有 所有 貨運 公司 中 最 爛 的 服務 態度'"
      ]
     },
     "metadata": {},
     "execution_count": 11
    }
   ],
   "source": [
    "tokens_str[0]"
   ]
  },
  {
   "cell_type": "code",
   "execution_count": 12,
   "metadata": {},
   "outputs": [
    {
     "output_type": "execute_result",
     "data": {
      "text/plain": [
       "'貨運 慢 到 天荒地老 ， 電話 打 了 無數 次 才 接 ， 接 了 說 會 禮拜一 到 ， 結果 也 沒有 ， 所有 貨運 公司 中 最 爛 的 服務 態度 ！'"
      ]
     },
     "metadata": {},
     "execution_count": 12
    }
   ],
   "source": [
    "tokens_origin[0]"
   ]
  },
  {
   "cell_type": "code",
   "execution_count": 13,
   "metadata": {},
   "outputs": [
    {
     "output_type": "execute_result",
     "data": {
      "text/plain": [
       "      author grade                                            comment  \\\n",
       "0       su H     1  貨運慢到天荒地老，電話打了無數次才接，接了說會禮拜一到，結果也沒有，所有貨運公司中最爛的服務態度！   \n",
       "1        黃彩雲     4  真是抱歉，這晚只是為了帶孩子感受護國宮安魂路祭活動，停留在物流所大門前，並不是真的有去物流所...   \n",
       "2   Chriz Wu     1                                  會讓您送來的電視直接變廢五金喔^^   \n",
       "3  Qian Chen     1  一顆心都嫌多 爛死了 貨物已經到站所一個禮拜還在配送中？昨天打給客服跟我說最晚今天送達結果騙...   \n",
       "4        駱彥華     1  態度部分就不提，把人家寄物件掉在路上，被熱心民眾送到手上，物流還完全不知情，照上面電話打去告...   \n",
       "\n",
       "                                       tokens_origin  \\\n",
       "0  貨運 慢 到 天荒地老 ， 電話 打 了 無數 次 才 接 ， 接 了 說 會 禮拜一 到 ...   \n",
       "1  真是 抱歉 ， 這 晚 只是 為 了 帶 孩子 感受 護國宮 安魂 路祭 活動 ， 停留 在...   \n",
       "2                        會 讓 您 送來 的 電視 直接 變廢 五金 喔 ^^   \n",
       "3  一 顆 心 都 嫌 多   爛死 了   貨物 已經 到站 所 一 個 禮拜 還 在 配送 ...   \n",
       "4  態度 部分 就 不 提 ， 把 人家 寄 物件 掉 在 路 上 ， 被 熱心 民眾 送 到 ...   \n",
       "\n",
       "                                          tokens_str  \\\n",
       "0  貨運 慢 到 天荒地老 電話 打 了 無數 次 才 接 接 了 說 會 禮拜一 到 結果 也...   \n",
       "1  真是 抱歉 這 晚 只是 為 了 帶 孩子 感受 護國宮 安魂 路祭 活動 停留 在 物流所...   \n",
       "2                           會 讓 您 送來 的 電視 直接 變廢 五金 喔   \n",
       "3  一 顆 心 都 嫌 多 爛死 了 貨物 已經 到站 所 一 個 禮拜 還 在 配送 中 昨天...   \n",
       "4  態度 部分 就 不 提 把 人家 寄 物件 掉 在 路 上 被 熱心 民眾 送 到 手 上 ...   \n",
       "\n",
       "                                         tokens_list  \n",
       "0  [貨運, 慢, 到, 天荒地老, 電話, 打, 了, 無數, 次, 才, 接, 接, 了, ...  \n",
       "1  [真是, 抱歉, 這, 晚, 只是, 為, 了, 帶, 孩子, 感受, 護國宮, 安魂, 路...  \n",
       "2                [會, 讓, 您, 送來, 的, 電視, 直接, 變廢, 五金, 喔]  \n",
       "3  [一, 顆, 心, 都, 嫌, 多, 爛死, 了, 貨物, 已經, 到站, 所, 一, 個,...  \n",
       "4  [態度, 部分, 就, 不, 提, 把, 人家, 寄, 物件, 掉, 在, 路, 上, 被,...  "
      ],
      "text/html": "<div>\n<style scoped>\n    .dataframe tbody tr th:only-of-type {\n        vertical-align: middle;\n    }\n\n    .dataframe tbody tr th {\n        vertical-align: top;\n    }\n\n    .dataframe thead th {\n        text-align: right;\n    }\n</style>\n<table border=\"1\" class=\"dataframe\">\n  <thead>\n    <tr style=\"text-align: right;\">\n      <th></th>\n      <th>author</th>\n      <th>grade</th>\n      <th>comment</th>\n      <th>tokens_origin</th>\n      <th>tokens_str</th>\n      <th>tokens_list</th>\n    </tr>\n  </thead>\n  <tbody>\n    <tr>\n      <th>0</th>\n      <td>su H</td>\n      <td>1</td>\n      <td>貨運慢到天荒地老，電話打了無數次才接，接了說會禮拜一到，結果也沒有，所有貨運公司中最爛的服務態度！</td>\n      <td>貨運 慢 到 天荒地老 ， 電話 打 了 無數 次 才 接 ， 接 了 說 會 禮拜一 到 ...</td>\n      <td>貨運 慢 到 天荒地老 電話 打 了 無數 次 才 接 接 了 說 會 禮拜一 到 結果 也...</td>\n      <td>[貨運, 慢, 到, 天荒地老, 電話, 打, 了, 無數, 次, 才, 接, 接, 了, ...</td>\n    </tr>\n    <tr>\n      <th>1</th>\n      <td>黃彩雲</td>\n      <td>4</td>\n      <td>真是抱歉，這晚只是為了帶孩子感受護國宮安魂路祭活動，停留在物流所大門前，並不是真的有去物流所...</td>\n      <td>真是 抱歉 ， 這 晚 只是 為 了 帶 孩子 感受 護國宮 安魂 路祭 活動 ， 停留 在...</td>\n      <td>真是 抱歉 這 晚 只是 為 了 帶 孩子 感受 護國宮 安魂 路祭 活動 停留 在 物流所...</td>\n      <td>[真是, 抱歉, 這, 晚, 只是, 為, 了, 帶, 孩子, 感受, 護國宮, 安魂, 路...</td>\n    </tr>\n    <tr>\n      <th>2</th>\n      <td>Chriz Wu</td>\n      <td>1</td>\n      <td>會讓您送來的電視直接變廢五金喔^^</td>\n      <td>會 讓 您 送來 的 電視 直接 變廢 五金 喔 ^^</td>\n      <td>會 讓 您 送來 的 電視 直接 變廢 五金 喔</td>\n      <td>[會, 讓, 您, 送來, 的, 電視, 直接, 變廢, 五金, 喔]</td>\n    </tr>\n    <tr>\n      <th>3</th>\n      <td>Qian Chen</td>\n      <td>1</td>\n      <td>一顆心都嫌多 爛死了 貨物已經到站所一個禮拜還在配送中？昨天打給客服跟我說最晚今天送達結果騙...</td>\n      <td>一 顆 心 都 嫌 多   爛死 了   貨物 已經 到站 所 一 個 禮拜 還 在 配送 ...</td>\n      <td>一 顆 心 都 嫌 多 爛死 了 貨物 已經 到站 所 一 個 禮拜 還 在 配送 中 昨天...</td>\n      <td>[一, 顆, 心, 都, 嫌, 多, 爛死, 了, 貨物, 已經, 到站, 所, 一, 個,...</td>\n    </tr>\n    <tr>\n      <th>4</th>\n      <td>駱彥華</td>\n      <td>1</td>\n      <td>態度部分就不提，把人家寄物件掉在路上，被熱心民眾送到手上，物流還完全不知情，照上面電話打去告...</td>\n      <td>態度 部分 就 不 提 ， 把 人家 寄 物件 掉 在 路 上 ， 被 熱心 民眾 送 到 ...</td>\n      <td>態度 部分 就 不 提 把 人家 寄 物件 掉 在 路 上 被 熱心 民眾 送 到 手 上 ...</td>\n      <td>[態度, 部分, 就, 不, 提, 把, 人家, 寄, 物件, 掉, 在, 路, 上, 被,...</td>\n    </tr>\n  </tbody>\n</table>\n</div>"
     },
     "metadata": {},
     "execution_count": 13
    }
   ],
   "source": [
    "data['tokens_origin'] = tokens_origin\n",
    "data['tokens_str'] = tokens_str\n",
    "data['tokens_list'] = tokens_list\n",
    "\n",
    "data.head()"
   ]
  },
  {
   "cell_type": "code",
   "execution_count": 14,
   "metadata": {},
   "outputs": [
    {
     "output_type": "execute_result",
     "data": {
      "text/plain": [
       "4291"
      ]
     },
     "metadata": {},
     "execution_count": 14
    }
   ],
   "source": [
    "len(data)"
   ]
  },
  {
   "cell_type": "markdown",
   "metadata": {},
   "source": [
    "# Save dataset\n",
    "\n",
    "存檔"
   ]
  },
  {
   "cell_type": "code",
   "execution_count": 16,
   "metadata": {},
   "outputs": [],
   "source": [
    "data.to_csv('google_comment_ckiplab.csv', index=None, sep='|',encoding='utf-8-sig')"
   ]
  },
  {
   "cell_type": "raw",
   "metadata": {},
   "source": [
    "# 不要一行一行去斷詞，非常費時!\n",
    "\n",
    "%%time\n",
    "tokens_str =[]\n",
    "tokens_list =[]\n",
    "for doc in data.review:\n",
    "    words = ws([doc]) #list格式\n",
    "    tokens_str.append( \" \".join(words[0]) ) #轉成字串彼此間用空白隔開 存放\n",
    "    tokens_list.append( words[0] ) #list格式存放"
   ]
  }
 ],
 "metadata": {
  "anaconda-cloud": {},
  "kernelspec": {
   "name": "python3",
   "display_name": "Python 3.7.9 64-bit ('tensorflow': conda)"
  },
  "language_info": {
   "codemirror_mode": {
    "name": "ipython",
    "version": 3
   },
   "file_extension": ".py",
   "mimetype": "text/x-python",
   "name": "python",
   "nbconvert_exporter": "python",
   "pygments_lexer": "ipython3",
   "version": "3.7.9"
  },
  "widgets": {
   "application/vnd.jupyter.widget-state+json": {
    "state": {},
    "version_major": 2,
    "version_minor": 0
   }
  },
  "interpreter": {
   "hash": "d344b0b44ed74f5219ec8dab31a9f3e764b5e17a5cf2d9830ceefda51f994047"
  }
 },
 "nbformat": 4,
 "nbformat_minor": 4
}