{
 "metadata": {
  "language_info": {
   "codemirror_mode": {
    "name": "ipython",
    "version": 3
   },
   "file_extension": ".py",
   "mimetype": "text/x-python",
   "name": "python",
   "nbconvert_exporter": "python",
   "pygments_lexer": "ipython3",
   "version": "3.7.9"
  },
  "orig_nbformat": 4,
  "kernelspec": {
   "name": "python3",
   "display_name": "Python 3.7.9 64-bit ('tensorflow': conda)"
  },
  "interpreter": {
   "hash": "d344b0b44ed74f5219ec8dab31a9f3e764b5e17a5cf2d9830ceefda51f994047"
  }
 },
 "nbformat": 4,
 "nbformat_minor": 2,
 "cells": [
  {
   "cell_type": "code",
   "execution_count": 7,
   "metadata": {},
   "outputs": [
    {
     "output_type": "execute_result",
     "data": {
      "text/plain": [
       "'!1y3765758672215779381!2y15467832596913604239'"
      ]
     },
     "metadata": {},
     "execution_count": 7
    }
   ],
   "source": [
    "def loc_code(url):\n",
    "    code = url.split('pb=!1m2')[1]\n",
    "    code = code.split('!2m2')[0]\n",
    "    \n",
    "    return code\n",
    "\n",
    "loc_code(\n",
    "    'https://www.google.com.tw/maps/preview/review/listentitiesreviews?authuser=0&hl=zh-TW&gl=tw&authuser=0&pb=!1m2!1y3765758672215779381!2y15467832596913604239!2m2!1i0!2i10!3e1!4m5!3b1!4b1!5b1!6b1!7b1!5m2!1stlLTYLuMB6SVr7wP8L2j-A0!7e81'\n",
    "    )"
   ]
  },
  {
   "cell_type": "code",
   "execution_count": 8,
   "metadata": {},
   "outputs": [
    {
     "output_type": "stream",
     "name": "stdout",
     "text": [
      "!1y3776302443310850793!2y15305373230064131123 0\n",
      "!1y3776302443310850793!2y15305373230064131123 199\n",
      "!1y3776302443310850793!2y15305373230064131123 398\n",
      "!1y3776302443310850793!2y15305373230064131123 597\n",
      "———————————————————\n",
      "!1y3776305938009638647!2y6356441589073248227 0\n",
      "!1y3776305938009638647!2y6356441589073248227 199\n",
      "!1y3776305938009638647!2y6356441589073248227 398\n",
      "!1y3776305938009638647!2y6356441589073248227 597\n",
      "———————————————————\n",
      "!1y3778087686463055481!2y9592893017185304057 0\n",
      "!1y3778087686463055481!2y9592893017185304057 199\n",
      "!1y3778087686463055481!2y9592893017185304057 398\n",
      "———————————————————\n",
      "!1y3778128460861594209!2y9887584023790492373 0\n",
      "!1y3778128460861594209!2y9887584023790492373 199\n",
      "!1y3778128460861594209!2y9887584023790492373 398\n",
      "!1y3778128460861594209!2y9887584023790492373 597\n",
      "!1y3778128460861594209!2y9887584023790492373 796\n",
      "!1y3778128460861594209!2y9887584023790492373 995\n",
      "!1y3778128460861594209!2y9887584023790492373 1194\n",
      "!1y3778128460861594209!2y9887584023790492373 1393\n",
      "!1y3778128460861594209!2y9887584023790492373 1592\n",
      "!1y3778128460861594209!2y9887584023790492373 1791\n",
      "!1y3778128460861594209!2y9887584023790492373 1990\n",
      "!1y3778128460861594209!2y9887584023790492373 2189\n",
      "!1y3778128460861594209!2y9887584023790492373 2388\n",
      "!1y3778128460861594209!2y9887584023790492373 2587\n",
      "!1y3778128460861594209!2y9887584023790492373 2786\n",
      "!1y3778128460861594209!2y9887584023790492373 2985\n",
      "!1y3778128460861594209!2y9887584023790492373 3184\n",
      "!1y3778128460861594209!2y9887584023790492373 3383\n",
      "!1y3778128460861594209!2y9887584023790492373 3582\n",
      "!1y3778128460861594209!2y9887584023790492373 3781\n",
      "———————————————————\n",
      "!1y3776617884838161599!2y15705247916724797950 0\n",
      "!1y3776617884838161599!2y15705247916724797950 199\n",
      "!1y3776617884838161599!2y15705247916724797950 398\n",
      "!1y3776617884838161599!2y15705247916724797950 597\n",
      "———————————————————\n",
      "!1y3776305763128098927!2y11411211579442031803 0\n",
      "!1y3776305763128098927!2y11411211579442031803 199\n",
      "!1y3776305763128098927!2y11411211579442031803 398\n",
      "———————————————————\n",
      "!1y3776305905741721117!2y7155637176539831175 0\n",
      "!1y3776305905741721117!2y7155637176539831175 199\n",
      "!1y3776305905741721117!2y7155637176539831175 398\n",
      "———————————————————\n",
      "!1y3776270608323266363!2y4726107716876134641 0\n",
      "!1y3776270608323266363!2y4726107716876134641 199\n",
      "!1y3776270608323266363!2y4726107716876134641 398\n",
      "!1y3776270608323266363!2y4726107716876134641 597\n",
      "———————————————————\n",
      "!1y3765758672215779381!2y15467832596913604239 0\n",
      "!1y3765758672215779381!2y15467832596913604239 199\n",
      "!1y3765758672215779381!2y15467832596913604239 398\n",
      "!1y3765758672215779381!2y15467832596913604239 597\n",
      "———————————————————\n",
      "已抓取完畢..\n"
     ]
    }
   ],
   "source": [
    "import requests \n",
    "import json\n",
    "\n",
    "import time\n",
    "import random\n",
    "import pandas as pd\n",
    "\n",
    "author =[]\n",
    "grade = []\n",
    "comment = []\n",
    "\n",
    "headers = {\n",
    "   'user-agent': 'Mozilla/5.0 (Macintosh; Intel Mac OS X 10_15_6) AppleWebKit/537.36 (KHTML, like Gecko) Chrome/85.0.4183.83 Safari/537.36 Edg/85.0.564.41'\n",
    "   }\n",
    "\n",
    "v_1i = 0\n",
    "v_2i = 199\n",
    "v_1ms = [\n",
    "        '!1y3776617475240593637!2y14109521410168677483',\n",
    "        '!1y3776617386917541977!2y117359255411149577',\n",
    "        '!1y3776616739057373097!2y9861372521298563627',\n",
    "        '!1y3777962758471016633!2y9184647056730041745',\n",
    "        '!1y3765758546651144975!2y6093113884180453713',\n",
    "        '!1y3776568812309316465!2y6369233585824223268',\n",
    "        '!1y3776301676889270181!2y15666623089730298236',\n",
    "        '!1y3765761248784809985!2y5122578555260194964',\n",
    "        '!1y3777975948267872903!2y16088708442249168864',\n",
    "        '!1y3777913796124171521!2y3580320445387321017',\n",
    "        '!1y3776618952839832629!2y1600986175926008900',\n",
    "        '!1y3778087575164822383!2y14146912448290003930',\n",
    "        '!1y3777962572212530289!2y15269064757073525374',\n",
    "        '!1y3776333100035061683!2y6993082259558543111',\n",
    "        '!1y3776616921681694747!2y17544756325757468550',\n",
    "        '!1y3776617264342633581!2y13008244945588063250',\n",
    "        '!1y3776302443310850793!2y15305373230064131123',\n",
    "        '!1y3776305938009638647!2y6356441589073248227',\n",
    "        '!1y3778087686463055481!2y9592893017185304057',\n",
    "        '!1y3778128460861594209!2y9887584023790492373',\n",
    "        '!1y3776617884838161599!2y15705247916724797950',\n",
    "        '!1y3776305763128098927!2y11411211579442031803',\n",
    "        '!1y3776305905741721117!2y7155637176539831175',\n",
    "        '!1y3776270608323266363!2y4726107716876134641',\n",
    "        '!1y3765758672215779381!2y15467832596913604239',\n",
    "        ]\n",
    "for v_1m in v_1ms:\n",
    "    v_1i = 0\n",
    "    while(True):\n",
    "\n",
    "        print(v_1m,v_1i)\n",
    "    \n",
    "        try:\n",
    "            url = 'https://www.google.com/maps/preview/review/listentitiesreviews?authuser=0&hl=zh-TW&gl=tw&pb=!1m2'+ v_1m +'!2m2!1i'+str(v_1i)+'!2i'+str(v_2i)+'!3e1!4m5!3b1!4b1!5b1!6b1!7b1!5m2!1sofnPYLHACoavmAXPwqTAAQ!7e81'\n",
    "            \n",
    "            text = requests.get(url,headers=headers).text\n",
    "            \n",
    "            # 取代掉特殊字元，這個字元是為了資訊安全而設定的喔。\n",
    "            pretext = ')]}\\''\n",
    "            text = text.replace(pretext,'')\n",
    "            # 把字串讀取成json\n",
    "            soup = json.loads(text)\n",
    "            # 取出包含留言的List 。\n",
    "            conlist = soup[2]\n",
    "\n",
    "            # 逐筆抓出\n",
    "            for i in conlist:\n",
    "                author.append(str(i[0][1]))\n",
    "                # print(\"time:\"+str(i[1]))\n",
    "                \n",
    "                comment.append(str(i[3]).replace('\\n',' '))\n",
    "                grade.append(str(i[4]))\n",
    "\n",
    "            v_1i += 199\n",
    "        except:\n",
    "            print('———————————————————')\n",
    "            break\n",
    "        finally:\n",
    "            sleep_time=random.uniform(1,3)\n",
    "            # print(f\"先停留{sleep_time}秒...\")\n",
    "            time.sleep(sleep_time)\n",
    "\n",
    "\n",
    "\n",
    "\n",
    "print(f\"已抓取完畢..\")\n",
    "#整體成pd\n",
    "google_comment_df = pd.DataFrame({\n",
    "    \"author\":author,\n",
    "    \"grade\":grade,\n",
    "    \"comment\":comment,    \n",
    "    })"
   ]
  },
  {
   "cell_type": "code",
   "execution_count": 9,
   "metadata": {},
   "outputs": [],
   "source": [
    "google_comment_df = google_comment_df[google_comment_df.comment!='None']"
   ]
  },
  {
   "cell_type": "code",
   "execution_count": 10,
   "metadata": {},
   "outputs": [],
   "source": [
    "google_comment_df = google_comment_df.drop_duplicates(subset=[\"author\",\"grade\",\"comment\"])"
   ]
  },
  {
   "cell_type": "code",
   "execution_count": 11,
   "metadata": {},
   "outputs": [
    {
     "output_type": "execute_result",
     "data": {
      "text/plain": [
       "            author grade                                            comment\n",
       "0             su H     1  貨運慢到天荒地老，電話打了無數次才接，接了說會禮拜一到，結果也沒有，所有貨運公司中最爛的服務態度！\n",
       "1              黃彩雲     4  真是抱歉，這晚只是為了帶孩子感受護國宮安魂路祭活動，停留在物流所大門前，並不是真的有去物流所...\n",
       "2         Chriz Wu     1                                  會讓您送來的電視直接變廢五金喔^^\n",
       "3        Qian Chen     1  一顆心都嫌多 爛死了 貨物已經到站所一個禮拜還在配送中？昨天打給客服跟我說最晚今天送達結果騙...\n",
       "4              駱彥華     1  態度部分就不提，把人家寄物件掉在路上，被熱心民眾送到手上，物流還完全不知情，照上面電話打去告...\n",
       "...            ...   ...                                                ...\n",
       "7109  Archer Chang     3                  (由 Google 提供翻譯) 份量超少  (原始評論) 份量超少\n",
       "7110     patrick s     1                  (由 Google 提供翻譯) 地雷勿踩  (原始評論) 地雷勿踩\n",
       "7111    Harris Joe     2  (由 Google 提供翻譯) 菜很少 口味又很淡 吃大埔要先挑店  (原始評論) 菜很少 ...\n",
       "7112      K.Y. Lin     2                    (由 Google 提供翻譯) 不OK  (原始評論) 不OK\n",
       "7113     Jonas Yeh     3                      (由 Google 提供翻譯) 普通  (原始評論) 普通\n",
       "\n",
       "[4318 rows x 3 columns]"
      ],
      "text/html": "<div>\n<style scoped>\n    .dataframe tbody tr th:only-of-type {\n        vertical-align: middle;\n    }\n\n    .dataframe tbody tr th {\n        vertical-align: top;\n    }\n\n    .dataframe thead th {\n        text-align: right;\n    }\n</style>\n<table border=\"1\" class=\"dataframe\">\n  <thead>\n    <tr style=\"text-align: right;\">\n      <th></th>\n      <th>author</th>\n      <th>grade</th>\n      <th>comment</th>\n    </tr>\n  </thead>\n  <tbody>\n    <tr>\n      <th>0</th>\n      <td>su H</td>\n      <td>1</td>\n      <td>貨運慢到天荒地老，電話打了無數次才接，接了說會禮拜一到，結果也沒有，所有貨運公司中最爛的服務態度！</td>\n    </tr>\n    <tr>\n      <th>1</th>\n      <td>黃彩雲</td>\n      <td>4</td>\n      <td>真是抱歉，這晚只是為了帶孩子感受護國宮安魂路祭活動，停留在物流所大門前，並不是真的有去物流所...</td>\n    </tr>\n    <tr>\n      <th>2</th>\n      <td>Chriz Wu</td>\n      <td>1</td>\n      <td>會讓您送來的電視直接變廢五金喔^^</td>\n    </tr>\n    <tr>\n      <th>3</th>\n      <td>Qian Chen</td>\n      <td>1</td>\n      <td>一顆心都嫌多 爛死了 貨物已經到站所一個禮拜還在配送中？昨天打給客服跟我說最晚今天送達結果騙...</td>\n    </tr>\n    <tr>\n      <th>4</th>\n      <td>駱彥華</td>\n      <td>1</td>\n      <td>態度部分就不提，把人家寄物件掉在路上，被熱心民眾送到手上，物流還完全不知情，照上面電話打去告...</td>\n    </tr>\n    <tr>\n      <th>...</th>\n      <td>...</td>\n      <td>...</td>\n      <td>...</td>\n    </tr>\n    <tr>\n      <th>7109</th>\n      <td>Archer Chang</td>\n      <td>3</td>\n      <td>(由 Google 提供翻譯) 份量超少  (原始評論) 份量超少</td>\n    </tr>\n    <tr>\n      <th>7110</th>\n      <td>patrick s</td>\n      <td>1</td>\n      <td>(由 Google 提供翻譯) 地雷勿踩  (原始評論) 地雷勿踩</td>\n    </tr>\n    <tr>\n      <th>7111</th>\n      <td>Harris Joe</td>\n      <td>2</td>\n      <td>(由 Google 提供翻譯) 菜很少 口味又很淡 吃大埔要先挑店  (原始評論) 菜很少 ...</td>\n    </tr>\n    <tr>\n      <th>7112</th>\n      <td>K.Y. Lin</td>\n      <td>2</td>\n      <td>(由 Google 提供翻譯) 不OK  (原始評論) 不OK</td>\n    </tr>\n    <tr>\n      <th>7113</th>\n      <td>Jonas Yeh</td>\n      <td>3</td>\n      <td>(由 Google 提供翻譯) 普通  (原始評論) 普通</td>\n    </tr>\n  </tbody>\n</table>\n<p>4318 rows × 3 columns</p>\n</div>"
     },
     "metadata": {},
     "execution_count": 11
    }
   ],
   "source": [
    "google_comment_df"
   ]
  },
  {
   "cell_type": "code",
   "execution_count": 12,
   "metadata": {},
   "outputs": [],
   "source": [
    "google_comment_df.to_csv(f\"./google_comment.csv\",index=False,encoding='utf-8-sig')"
   ]
  },
  {
   "cell_type": "code",
   "execution_count": null,
   "metadata": {},
   "outputs": [],
   "source": []
  }
 ]
}